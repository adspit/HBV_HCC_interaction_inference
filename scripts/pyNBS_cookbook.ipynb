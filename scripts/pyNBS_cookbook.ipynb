{
 "cells": [
  {
   "cell_type": "code",
   "execution_count": 1,
   "metadata": {},
   "outputs": [],
   "source": [
    "%load_ext autoreload\n",
    "%autoreload 2"
   ]
  },
  {
   "cell_type": "code",
   "execution_count": 66,
   "metadata": {},
   "outputs": [],
   "source": [
    "import numpy as np\n",
    "import pandas as pd\n",
    "import os\n",
    "import pyNBS as nbs"
   ]
  },
  {
   "cell_type": "markdown",
   "metadata": {
    "collapsed": true
   },
   "source": [
    "# Preprocess data"
   ]
  },
  {
   "cell_type": "code",
   "execution_count": 67,
   "metadata": {},
   "outputs": [],
   "source": [
    "fn = '/cellar/data/users/wzhang1984/Firehose/Firehose__2015_08_21/analyses/OV/Mutation_Assessor/OV-TP.maf.annotated'\n",
    "df = pd.read_table(fn)"
   ]
  },
  {
   "cell_type": "code",
   "execution_count": 68,
   "metadata": {},
   "outputs": [],
   "source": [
    "df = df.loc[(df.loc[:,'is_flank']==0) & (df.loc[:,'is_silent']==0),:]"
   ]
  },
  {
   "cell_type": "code",
   "execution_count": 69,
   "metadata": {},
   "outputs": [],
   "source": [
    "df['pat'] = df.loc[:,'patient'].str[:12]"
   ]
  },
  {
   "cell_type": "code",
   "execution_count": 70,
   "metadata": {},
   "outputs": [],
   "source": [
    "df.loc[:,['pat','Hugo_Symbol']].to_csv('../data/OV_pat2mut.txt',sep='\\t',header=False,index=False)"
   ]
  },
  {
   "cell_type": "code",
   "execution_count": 71,
   "metadata": {},
   "outputs": [
    {
     "data": {
      "text/plain": [
       "0"
      ]
     },
     "execution_count": 71,
     "metadata": {},
     "output_type": "execute_result"
    }
   ],
   "source": [
    "os.system('cp /cellar/data/users/wzhang1984/forNBS/FIsInGene_031516_with_annotations.txt ../data')\n",
    "os.system('cp /cellar/data/users/wzhang1984/PCAWG/pat2clin4surv.txt ../data')"
   ]
  },
  {
   "cell_type": "markdown",
   "metadata": {
    "collapsed": true
   },
   "source": [
    "# Network propagation (iteration)"
   ]
  },
  {
   "cell_type": "code",
   "execution_count": 72,
   "metadata": {},
   "outputs": [
    {
     "name": "stdout",
     "output_type": "stream",
     "text": [
      "* Loading PPI...\n",
      "\t- Edges: 228919\n",
      "\t- Nodes: 12175\n",
      "* Removing self-loops, multi-edges, and restricting to largest connected component...\n",
      "\t- Largest CC Edges: 228827\n",
      "\t- Largest CC Nodes: 12033\n",
      "* Saving updated node list to file...\n"
     ]
    }
   ],
   "source": [
    "file_name = '../data/FIsInGene_031516_with_annotations.txt'\n",
    "output_dir = '../data/'\n",
    "network, gene2index=nbs.load_network(file_name,output_dir)"
   ]
  },
  {
   "cell_type": "code",
   "execution_count": 73,
   "metadata": {},
   "outputs": [
    {
     "name": "stdout",
     "output_type": "stream",
     "text": [
      "\t- Genes in adjacency matrix: 6079\n",
      "* Saving patient list to file...\n"
     ]
    }
   ],
   "source": [
    "file_name = '../data/OV_pat2mut.txt'\n",
    "mutation_profile, pat2index = nbs.load_mutation(file_name,output_dir,gene2index)"
   ]
  },
  {
   "cell_type": "code",
   "execution_count": 77,
   "metadata": {},
   "outputs": [
    {
     "name": "stdout",
     "output_type": "stream",
     "text": [
      "0 iteration: delta is 3.65070073619\n",
      "1 iteration: delta is 0.841077657404\n",
      "2 iteration: delta is 0.176831939612\n",
      "3 iteration: delta is 0.0786278752818\n",
      "4 iteration: delta is 0.033845809479\n",
      "5 iteration: delta is 0.0171747203311\n",
      "6 iteration: delta is 0.00844417147056\n",
      "7 iteration: delta is 0.00441606380949\n",
      "8 iteration: delta is 0.0022625442709\n",
      "9 iteration: delta is 0.00120190763346\n",
      "10 iteration: delta is 0.000629437209068\n",
      "11 iteration: delta is 0.000338617162376\n",
      "12 iteration: delta is 0.000179910329278\n",
      "13 iteration: delta is 9.78905215158e-05\n",
      "Finish propagating the data...\n"
     ]
    }
   ],
   "source": [
    "rst_prob = 0.4\n",
    "converge_rate = 0.0001\n",
    "\n",
    "# run network propagation\n",
    "pat_diff = nbs.run_diffusion(network,rst_prob,mutation_profile,converge_rate)\n",
    "\n",
    "# write propagated network on hard disk\n",
    "with open('{}/prop_pat_mut.npy'.format(output_dir),'w') as file_handle:\n",
    "    np.save(file_handle,pat_diff)\n",
    "\n",
    "print 'Finish propagating the data...'"
   ]
  },
  {
   "cell_type": "markdown",
   "metadata": {},
   "source": [
    "# Network propagation (using PPR matrix)"
   ]
  },
  {
   "cell_type": "code",
   "execution_count": null,
   "metadata": {
    "collapsed": true
   },
   "outputs": [],
   "source": [
    "# Load network\n",
    "\n",
    "file_name = '../data/FIsInGene_031516_with_annotations.txt'\n",
    "output_dir = '../data/'\n",
    "network, gene2index=nbs.load_network(file_name,output_dir)"
   ]
  },
  {
   "cell_type": "code",
   "execution_count": null,
   "metadata": {
    "collapsed": true
   },
   "outputs": [],
   "source": [
    "# It takes a long time to compute the inverse matrix. But it only has to be done once.\n",
    "\n",
    "rst_prob = 0.5\n",
    "\n",
    "PPR = nbs.create_ppr_matrix(network,rst_prob,network_output_dir)"
   ]
  },
  {
   "cell_type": "code",
   "execution_count": null,
   "metadata": {
    "collapsed": true
   },
   "outputs": [],
   "source": [
    "# load PPR matrix\n",
    "\n",
    "output_dir = '../data/'\n",
    "PPR = np.load('{}/ppr_0.5.npy'.format(network_output_dir))"
   ]
  },
  {
   "cell_type": "code",
   "execution_count": null,
   "metadata": {
    "collapsed": true
   },
   "outputs": [],
   "source": [
    "# Load mutations\n",
    "\n",
    "output_dir = '../data/'\n",
    "file_name = '../data/OV_pat2mut.txt'\n",
    "mutation_profile, pat2index = nbs.load_mutation(file_name,output_dir,gene2index)"
   ]
  },
  {
   "cell_type": "code",
   "execution_count": null,
   "metadata": {
    "collapsed": true
   },
   "outputs": [],
   "source": [
    "# Network propagation\n",
    "\n",
    "pat_diff = nbs.run_diffusion_PPR(PPR,mutation_profile)\n",
    "\n",
    "# write propagated network on hard disk\n",
    "with open('{}/prop_pat_mut.npy'.format(output_dir),'w') as file_handle:\n",
    "    np.save(file_handle,pat_diff)\n",
    "\n",
    "print 'Finish propagating the data...'"
   ]
  },
  {
   "cell_type": "markdown",
   "metadata": {},
   "source": [
    "# Clustering"
   ]
  },
  {
   "cell_type": "code",
   "execution_count": 11,
   "metadata": {},
   "outputs": [],
   "source": [
    "M_prop = np.load('../data/prop_pat_mut.npy')\n",
    "with open('../data/index_genes') as file_handle:\n",
    "    genes = [a[1] for a in [line.split() for line in file_handle.read().splitlines()]]\n",
    "with open('../data/index_patients') as file_handle:\n",
    "    pats = [a[1] for a in [line.split() for line in file_handle.read().splitlines()]]\n",
    "M_prop=pd.DataFrame(data=M_prop,index=pats,columns=genes)"
   ]
  },
  {
   "cell_type": "code",
   "execution_count": 12,
   "metadata": {},
   "outputs": [],
   "source": [
    "M_prop_pca, pca_components, explained_variance_ratio = nbs.run_pca(M_prop)"
   ]
  },
  {
   "cell_type": "code",
   "execution_count": 78,
   "metadata": {},
   "outputs": [
    {
     "data": {
      "text/plain": [
       "0.30268131715982532"
      ]
     },
     "execution_count": 78,
     "metadata": {},
     "output_type": "execute_result"
    }
   ],
   "source": [
    "explained_variance_ratio[:100].sum()"
   ]
  },
  {
   "cell_type": "code",
   "execution_count": 94,
   "metadata": {},
   "outputs": [],
   "source": [
    "labels = nbs.run_clustering_mp(M_prop_pca.iloc[:,:100], 10, nbs.run_SpectralClustering)"
   ]
  },
  {
   "cell_type": "code",
   "execution_count": null,
   "metadata": {
    "collapsed": true
   },
   "outputs": [],
   "source": [
    "labels.K10.value_counts()"
   ]
  },
  {
   "cell_type": "markdown",
   "metadata": {},
   "source": [
    "# Survival analysis"
   ]
  },
  {
   "cell_type": "code",
   "execution_count": 95,
   "metadata": {},
   "outputs": [
    {
     "data": {
      "text/plain": [
       "0"
      ]
     },
     "execution_count": 95,
     "metadata": {},
     "output_type": "execute_result"
    }
   ],
   "source": [
    "nbs.run_coxph('../data/pat2clin4surv.txt', labels, '../data/survival/')"
   ]
  },
  {
   "cell_type": "markdown",
   "metadata": {
    "collapsed": true
   },
   "source": [
    "# Subnetworks"
   ]
  },
  {
   "cell_type": "code",
   "execution_count": 96,
   "metadata": {},
   "outputs": [
    {
     "name": "stdout",
     "output_type": "stream",
     "text": [
      "Finish ttest\n",
      "Finish Fisher exact test\n",
      "Summarizing subtype signatures\n",
      "Summarizing subnetworks\n"
     ]
    },
    {
     "data": {
      "text/plain": [
       "0"
      ]
     },
     "execution_count": 96,
     "metadata": {},
     "output_type": "execute_result"
    }
   ],
   "source": [
    "M = pd.DataFrame(data=mutation_profile,index=pats,columns=genes)\n",
    "K = labels.loc[:,'K10']\n",
    "test_n_processes = 24\n",
    "pat2mut_fn = '../data/OV_pat2mut.txt'\n",
    "network_fn = '../data/FIsInGene_031516_with_annotations.txt'\n",
    "output_dir = '../data/network'\n",
    "ttest_fdr_cut = 0.3\n",
    "\n",
    "nbs.subnetwork_wrapper(M, M_prop, K, test_n_processes, pat2mut_fn, network_fn, output_dir, ttest_fdr_cut)"
   ]
  },
  {
   "cell_type": "code",
   "execution_count": null,
   "metadata": {},
   "outputs": [],
   "source": []
  },
  {
   "cell_type": "code",
   "execution_count": null,
   "metadata": {},
   "outputs": [],
   "source": []
  },
  {
   "cell_type": "code",
   "execution_count": null,
   "metadata": {},
   "outputs": [],
   "source": []
  },
  {
   "cell_type": "markdown",
   "metadata": {},
   "source": [
    "# **Clustering without propagation (scratch)"
   ]
  },
  {
   "cell_type": "code",
   "execution_count": null,
   "metadata": {
    "collapsed": true
   },
   "outputs": [],
   "source": [
    "from sklearn.decomposition import PCA\n",
    "from sklearn.cluster import SpectralClustering"
   ]
  },
  {
   "cell_type": "code",
   "execution_count": 160,
   "metadata": {
    "collapsed": true
   },
   "outputs": [],
   "source": [
    "M=pd.DataFrame(data=mutation_profile,index=pats,columns=genes)"
   ]
  },
  {
   "cell_type": "code",
   "execution_count": 161,
   "metadata": {
    "collapsed": true
   },
   "outputs": [],
   "source": [
    "M = M.subtract(M.mean())"
   ]
  },
  {
   "cell_type": "code",
   "execution_count": 164,
   "metadata": {},
   "outputs": [],
   "source": [
    "pca=PCA()\n",
    "pca.fit(M)\n",
    "M_pca=pca.transform(M)\n",
    "M_pca=pd.DataFrame(data=M_pca,index=pats)\n",
    "PCs=['PC{}'.format(i+1) for i in M_pca.columns]\n",
    "M_pca.columns=PCs\n",
    "pca_components_=pca.components_\n",
    "pca_components_=pd.DataFrame(data=pca_components_,columns=genes)\n",
    "pca_components_.index=PCs"
   ]
  },
  {
   "cell_type": "code",
   "execution_count": 172,
   "metadata": {},
   "outputs": [
    {
     "data": {
      "text/plain": [
       "0.30362309774442547"
      ]
     },
     "execution_count": 172,
     "metadata": {},
     "output_type": "execute_result"
    }
   ],
   "source": [
    "pca.explained_variance_ratio_[:58].sum()"
   ]
  },
  {
   "cell_type": "code",
   "execution_count": 181,
   "metadata": {},
   "outputs": [
    {
     "name": "stdout",
     "output_type": "stream",
     "text": [
      "2\n",
      "3\n",
      "4\n",
      "5\n",
      "6\n",
      "7\n",
      "8\n",
      "9\n",
      "10\n"
     ]
    }
   ],
   "source": [
    "labels2=[]\n",
    "for n_clusters in range(2,11):\n",
    "    print n_clusters\n",
    "    cluster=SpectralClustering(affinity='nearest_neighbors', n_clusters=n_clusters, n_init=1000, \n",
    "                               eigen_solver='arpack', eigen_tol=0.0001, assign_labels='discretize')\n",
    "    cluster.fit(M_pca.iloc[:,:13])\n",
    "    labels2.append(cluster.labels_)"
   ]
  },
  {
   "cell_type": "code",
   "execution_count": 182,
   "metadata": {
    "collapsed": true
   },
   "outputs": [],
   "source": [
    "labels2=pd.DataFrame(data=np.array(labels2).T,index=M.index,columns=['K{}'.format(i) for i in range(2,11)])"
   ]
  },
  {
   "cell_type": "code",
   "execution_count": 183,
   "metadata": {},
   "outputs": [
    {
     "data": {
      "text/plain": [
       "0"
      ]
     },
     "execution_count": 183,
     "metadata": {},
     "output_type": "execute_result"
    }
   ],
   "source": [
    "nbs.run_coxph('../data/pat2clin4surv.txt', labels2, '../data/survival/')"
   ]
  },
  {
   "cell_type": "code",
   "execution_count": null,
   "metadata": {
    "collapsed": true
   },
   "outputs": [],
   "source": []
  },
  {
   "cell_type": "code",
   "execution_count": null,
   "metadata": {
    "collapsed": true
   },
   "outputs": [],
   "source": []
  },
  {
   "cell_type": "code",
   "execution_count": null,
   "metadata": {
    "collapsed": true
   },
   "outputs": [],
   "source": []
  },
  {
   "cell_type": "code",
   "execution_count": null,
   "metadata": {
    "collapsed": true
   },
   "outputs": [],
   "source": []
  }
 ],
 "metadata": {
  "kernelspec": {
   "display_name": "Python 3",
   "language": "python",
   "name": "python3"
  },
  "language_info": {
   "codemirror_mode": {
    "name": "ipython",
    "version": 3
   },
   "file_extension": ".py",
   "mimetype": "text/x-python",
   "name": "python",
   "nbconvert_exporter": "python",
   "pygments_lexer": "ipython3",
   "version": "3.6.2"
  }
 },
 "nbformat": 4,
 "nbformat_minor": 1
}
